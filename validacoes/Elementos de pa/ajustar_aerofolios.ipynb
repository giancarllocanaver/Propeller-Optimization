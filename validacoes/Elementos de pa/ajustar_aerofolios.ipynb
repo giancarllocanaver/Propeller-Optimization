{
 "cells": [
  {
   "cell_type": "code",
   "execution_count": 8,
   "metadata": {},
   "outputs": [],
   "source": [
    "import numpy as np\n",
    "import os"
   ]
  },
  {
   "cell_type": "code",
   "execution_count": 3,
   "metadata": {},
   "outputs": [
    {
     "data": {
      "text/plain": [
       "(121, 2)"
      ]
     },
     "execution_count": 3,
     "metadata": {},
     "output_type": "execute_result"
    }
   ],
   "source": [
    "curvas = np.loadtxt(\"clarky.txt\")\n",
    "curvas.shape"
   ]
  },
  {
   "cell_type": "code",
   "execution_count": 6,
   "metadata": {},
   "outputs": [],
   "source": [
    "espessura_clarky = 0.117066\n",
    "espessuras_novas = np.array([\n",
    "    0.36305,\n",
    "    0.17476,\n",
    "    0.11790,\n",
    "    0.10141,\n",
    "    0.09213,\n",
    "    0.08650,\n",
    "    0.08282,\n",
    "])\n",
    "multiplicadores = espessuras_novas / espessura_clarky"
   ]
  },
  {
   "cell_type": "code",
   "execution_count": 7,
   "metadata": {},
   "outputs": [
    {
     "data": {
      "text/plain": [
       "array([3.10124203, 1.4928331 , 1.00712419, 0.86626348, 0.78699195,\n",
       "       0.73889942, 0.70746417])"
      ]
     },
     "execution_count": 7,
     "metadata": {},
     "output_type": "execute_result"
    }
   ],
   "source": [
    "multiplicadores"
   ]
  },
  {
   "cell_type": "code",
   "execution_count": 13,
   "metadata": {},
   "outputs": [],
   "source": [
    "pontos_novos = []\n",
    "for multiplicador in multiplicadores:\n",
    "    pontos_novos.append(\n",
    "        [curvas[:,0], curvas[:,1]*multiplicador]\n",
    "    )"
   ]
  },
  {
   "cell_type": "code",
   "execution_count": 19,
   "metadata": {},
   "outputs": [],
   "source": [
    "contador = 0\n",
    "for pontos in pontos_novos:\n",
    "    nome_arquivo = f\"aerofolio_{contador}.txt\"\n",
    "    contador += 1\n",
    "\n",
    "    with open(nome_arquivo, 'w') as file:\n",
    "        for linha in range(len(pontos[0])):\n",
    "            file.write(\n",
    "                f\"{pontos[0][linha]}     {pontos[1][linha]}\\n\"\n",
    "            )"
   ]
  }
 ],
 "metadata": {
  "kernelspec": {
   "display_name": "Python 3.9.6 64-bit",
   "language": "python",
   "name": "python3"
  },
  "language_info": {
   "codemirror_mode": {
    "name": "ipython",
    "version": 3
   },
   "file_extension": ".py",
   "mimetype": "text/x-python",
   "name": "python",
   "nbconvert_exporter": "python",
   "pygments_lexer": "ipython3",
   "version": "3.9.6"
  },
  "orig_nbformat": 4,
  "vscode": {
   "interpreter": {
    "hash": "e8c4f86e09a51a9df51557e6b34b401b3c777cd6ca1043acdfee1e163d9713d8"
   }
  }
 },
 "nbformat": 4,
 "nbformat_minor": 2
}
